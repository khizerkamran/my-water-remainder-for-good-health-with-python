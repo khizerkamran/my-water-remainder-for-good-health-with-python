{
 "cells": [
  {
   "cell_type": "code",
   "execution_count": null,
   "id": "bcf185eb",
   "metadata": {},
   "outputs": [],
   "source": [
    "import time\n",
    "from plyer import notification\n",
    "if __name__ == '__main__':\n",
    " \twhile True:\n",
    " \t\tnotification.notify(\n",
    " \t\t\ttitle = \"**Please Drink Water Now!!\",\n",
    " \t\t\tmessage =\"The National Academies of Sciences, Engineering, and Medicine determined that an adequate daily fluid intake is: About 15.5 cups (3.7 liters) of fluids for men. About 11.5 cups (2.7 liters) of fluids a day for women.\",\n",
    " \t\t\tapp_icon = \"path to your .ico file\",\n",
    " \t\t\ttimeout= 12\n",
    " \t\t)\n",
    " \t\t#\ttime.sleep(6)\n",
    " \t\ttime.sleep(60*60)"
   ]
  },
  {
   "cell_type": "code",
   "execution_count": null,
   "id": "ae16e1af",
   "metadata": {},
   "outputs": [],
   "source": []
  }
 ],
 "metadata": {
  "kernelspec": {
   "display_name": "Python 3",
   "language": "python",
   "name": "python3"
  },
  "language_info": {
   "codemirror_mode": {
    "name": "ipython",
    "version": 3
   },
   "file_extension": ".py",
   "mimetype": "text/x-python",
   "name": "python",
   "nbconvert_exporter": "python",
   "pygments_lexer": "ipython3",
   "version": "3.8.7"
  }
 },
 "nbformat": 4,
 "nbformat_minor": 5
}
